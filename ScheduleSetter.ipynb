{
 "cells": [
  {
   "cell_type": "code",
   "execution_count": 151,
   "metadata": {},
   "outputs": [],
   "source": [
    "import numpy as np\n",
    "import sqlite3"
   ]
  },
  {
   "cell_type": "code",
   "execution_count": 152,
   "metadata": {},
   "outputs": [
    {
     "data": {
      "text/plain": [
       "{'CMSC330': ['TuTh|ESJ0202|9:30am|10:45am', 'F|IRB1207|12:00pm|12:50pm'],\n",
       " 'CMSC351': ['MWF|ESJ0224|9:00am|9:50am'],\n",
       " 'CMSC420': ['MW|ESJ1224|3:30pm|4:45pm'],\n",
       " 'CMSC451': ['TuTh|CSI2117|11:00am|12:15pm'],\n",
       " 'CMSC216': ['TuTh|IRB0324|9:30am|10:45am', 'MW|IRB1207|3:00pm|3:50pm'],\n",
       " 'CMSC132': ['MWF|IRB0324|1:00pm|1:50pm', 'MW|CSI2118|12:00pm|12:50pm'],\n",
       " 'MATH140': ['MWF|PHY1412|8:00am|8:50am', 'TuTh|MTH1308|8:00am|9:20am'],\n",
       " 'MATH240': ['MWF|ARM0135|10:00am|10:50am', 'TuTh|MTHB0427|12:00pm|12:50pm'],\n",
       " 'PHYS161': ['MWF|PHY1410|3:00pm|3:50pm', 'Tu|PHY1402|3:00pm|3:50pm'],\n",
       " 'CHEM131': ['MWF|CHM1407|10:00am|10:50am', 'Tu|PHY2214|8:00am|8:50am'],\n",
       " 'CMSC335': ['MW|ESJ0202|3:30pm|4:45pm'],\n",
       " 'CMSC320': ['MW|IRB0324|3:30pm|4:45pm'],\n",
       " 'CMSC470': ['MW|CSI2117|3:30pm|4:45pm'],\n",
       " 'STAT400': ['TuTh|BRB1101|9:30am|10:45am', 'W|MTH0201|8:00am|8:50am']}"
      ]
     },
     "execution_count": 152,
     "metadata": {},
     "output_type": "execute_result"
    }
   ],
   "source": [
    "conn = sqlite3.connect('students_db')\n",
    "cur = conn.cursor()\n",
    "courses = {}\n",
    "file = open('classes.csv', 'r')\n",
    "lines = file.readlines()\n",
    "for index, line in enumerate(lines):\n",
    "    arr = line.split(\": \")\n",
    "    c = arr[1].split(\", \")\n",
    "    c[0] = c[0][1:]\n",
    "    c[-1] = c[-1][:-2]\n",
    "    courses[arr[0]] = c\n",
    "courses"
   ]
  },
  {
   "cell_type": "code",
   "execution_count": 153,
   "metadata": {},
   "outputs": [],
   "source": [
    "def add_student(student_name, student_id):\n",
    "    cur.execute(\"SELECT * FROM students WHERE Student_ID = \" + str(student_id))\n",
    "    data = cur.fetchall()\n",
    "    if data:\n",
    "        print(\"Student with same ID already exists\")\n",
    "    else: \n",
    "        cur.execute(\"\"\"INSERT INTO students (Student_ID, Student_Name) VALUES (?, ?);\"\"\", (student_id, student_name))\n",
    "        conn.commit()\n",
    "        print(\"Student added successfully\")"
   ]
  },
  {
   "cell_type": "code",
   "execution_count": 154,
   "metadata": {},
   "outputs": [
    {
     "name": "stdout",
     "output_type": "stream",
     "text": [
      "Student with same ID already exists\n"
     ]
    }
   ],
   "source": [
    "add_student(\"Nelson Perez\", 116274081)"
   ]
  },
  {
   "cell_type": "code",
   "execution_count": 155,
   "metadata": {},
   "outputs": [],
   "source": [
    "def get_student_id(name):\n",
    "    cur.execute(\"SELECT Student_ID FROM students WHERE Student_Name = '\" + str(name) + \"'\")\n",
    "    data = cur.fetchall()\n",
    "    if data:\n",
    "        return data[0][0]\n",
    "    else: \n",
    "        print(\"Student ID Doesn't Exist\")"
   ]
  },
  {
   "cell_type": "code",
   "execution_count": 156,
   "metadata": {},
   "outputs": [],
   "source": [
    "def get_student_name(student_id):\n",
    "    cur.execute(\"SELECT Student_Name FROM students WHERE Student_ID = \" + str(student_id))\n",
    "    data = cur.fetchall()\n",
    "    if data:\n",
    "        return data[0][0]\n",
    "    else:\n",
    "        print(\"Student Name Doesn't Exist\")"
   ]
  },
  {
   "cell_type": "code",
   "execution_count": 157,
   "metadata": {},
   "outputs": [],
   "source": [
    "def get_student_schedule(student_id):\n",
    "    try:\n",
    "        cur.execute(\"SELECT * FROM i\" + str(student_id) + \";\")\n",
    "        data = cur.fetchall()\n",
    "        if data:\n",
    "            return [d[0] for d in data]\n",
    "        else: \n",
    "            print(\"...\")\n",
    "    except sqlite3.OperationalError: \n",
    "        print(\"table doesn't exist\")"
   ]
  },
  {
   "cell_type": "code",
   "execution_count": 158,
   "metadata": {},
   "outputs": [
    {
     "data": {
      "text/plain": [
       "['CMSC330', 'CMSC351', 'CMSC350']"
      ]
     },
     "execution_count": 158,
     "metadata": {},
     "output_type": "execute_result"
    }
   ],
   "source": [
    "get_student_schedule(116274081)"
   ]
  },
  {
   "cell_type": "code",
   "execution_count": 159,
   "metadata": {},
   "outputs": [],
   "source": [
    "def conflict(c1, c2):\n",
    "    # Idea is to check if there is a conflict for any timing listed. So iterate over all the meetings \n",
    "    # and return false if there is any overlap at all. \n",
    "    return False\n",
    "def add_course(course_id, student_id):\n",
    "    cur.execute('''\n",
    "               CREATE TABLE IF NOT EXISTS i%s \n",
    "              ([Course] TEXT)\n",
    "              ''' % student_id)\n",
    "    cur.execute(\"\"\"SELECT * FROM i{}\"\"\".format(student_id))\n",
    "    data = cur.fetchall()\n",
    "    data = [t[0] for t in data]\n",
    "    print(data)\n",
    "    if course_id in data:\n",
    "        print(\"Student already registered for the course\")\n",
    "        return False\n",
    "    # Check for any conflicts before adding course. \n",
    "    for course in data:\n",
    "        if conflict(course, course_id):\n",
    "            print(\"Course conflict with: \" + str(course))\n",
    "            return False\n",
    "    cur.execute(\"\"\"INSERT INTO i{} (Course) VALUES ({});\"\"\".format(student_id, \"'\" + course_id + \"'\") )\n",
    "    conn.commit()"
   ]
  },
  {
   "cell_type": "code",
   "execution_count": 160,
   "metadata": {},
   "outputs": [
    {
     "name": "stdout",
     "output_type": "stream",
     "text": [
      "['CMSC330', 'CMSC351', 'CMSC350']\n",
      "Student already registered for the course\n"
     ]
    },
    {
     "data": {
      "text/plain": [
       "False"
      ]
     },
     "execution_count": 160,
     "metadata": {},
     "output_type": "execute_result"
    }
   ],
   "source": [
    "add_course(\"CMSC350\", \"116274081\")"
   ]
  },
  {
   "cell_type": "code",
   "execution_count": 161,
   "metadata": {},
   "outputs": [
    {
     "data": {
      "text/plain": [
       "['CMSC330', 'CMSC351', 'CMSC350']"
      ]
     },
     "execution_count": 161,
     "metadata": {},
     "output_type": "execute_result"
    }
   ],
   "source": [
    "get_student_schedule(\"116274081\")"
   ]
  },
  {
   "cell_type": "code",
   "execution_count": null,
   "metadata": {},
   "outputs": [],
   "source": []
  }
 ],
 "metadata": {
  "kernelspec": {
   "display_name": "Python 3 (ipykernel)",
   "language": "python",
   "name": "python3"
  },
  "language_info": {
   "codemirror_mode": {
    "name": "ipython",
    "version": 3
   },
   "file_extension": ".py",
   "mimetype": "text/x-python",
   "name": "python",
   "nbconvert_exporter": "python",
   "pygments_lexer": "ipython3",
   "version": "3.8.5"
  }
 },
 "nbformat": 4,
 "nbformat_minor": 4
}
